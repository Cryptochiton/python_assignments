{
 "cells": [
  {
   "cell_type": "markdown",
   "metadata": {
    "tags": []
   },
   "source": [
    "# Assignment 4: Python Functions\n",
    "\n",
    "\n",
    "```{admonition} Learning Goals\n",
    ":class: tip\n",
    "\n",
    "This assignment will verify that you have the following skills:\n",
    "- Define functions\n",
    "- Use optional keyword arguments in functions\n",
    "```"
   ]
  },
  {
   "cell_type": "markdown",
   "metadata": {},
   "source": [
    "## Part I: Practice with Functions\n",
    "\n",
    "### 1. Write a function to convert temperature from kelvin to celsius and celsius to kelvin"
   ]
  },
  {
   "cell_type": "code",
   "execution_count": 26,
   "metadata": {},
   "outputs": [
    {
     "data": {
      "text/plain": [
       "373.15"
      ]
     },
     "execution_count": 26,
     "metadata": {},
     "output_type": "execute_result"
    }
   ],
   "source": [
    "def converter(input_value, Celsius=False):\n",
    "    if Celsius:\n",
    "        output_value = input_value+273.15\n",
    "    else:\n",
    "        output_value = input_value-273.15\n",
    "    return output_value   \n",
    "\n",
    "\n",
    "converter(100,Celsius=True)"
   ]
  },
  {
   "cell_type": "markdown",
   "metadata": {
    "tags": []
   },
   "source": [
    "### 2. Write a function to convert temperature to fahrenheit\n",
    "\n",
    "Include an optional keyword argument to specify whether the input is in  celcius or kelvin.\n",
    "Call your previously defined functions if necessary."
   ]
  },
  {
   "cell_type": "code",
   "execution_count": 63,
   "metadata": {},
   "outputs": [
    {
     "name": "stdout",
     "output_type": "stream",
     "text": [
      "Converting 40C to 277.59444444444443F.\n"
     ]
    }
   ],
   "source": [
    "def Temperature_to_farenheit(temp, unit):\n",
    "    if(unit=='C'):\n",
    "        tmpf=(temp*9/5)+32\n",
    "        print('converting '+str(temp)+'C to '+str(tmpf)+'F.')\n",
    "    elif(unit=='K'):\n",
    "        tmpf=((temp-32)*(5/9))+273.15\n",
    "        print('Converting '+str(temp)+'C to '+str(tmpf)+'F.')\n",
    "    return tmpf\n",
    "\n",
    "tF = Temperature_to_farenheit(40, 'K')"
   ]
  },
  {
   "cell_type": "markdown",
   "metadata": {},
   "source": [
    "### 3) Check that the outputs are sensible by trying a few examples"
   ]
  },
  {
   "cell_type": "code",
   "execution_count": 44,
   "metadata": {},
   "outputs": [
    {
     "name": "stdout",
     "output_type": "stream",
     "text": [
      "Converting 40C to 277.59444444444443F.\n",
      "converting 40C to 104.0F.\n"
     ]
    }
   ],
   "source": [
    "tF = Temperature_to_farenheit(40, 'K')\n",
    "tF = Temperature_to_farenheit(40, 'C')"
   ]
  },
  {
   "cell_type": "markdown",
   "metadata": {},
   "source": [
    "### 4) Now write a function that converts _from_ farenheit and uses a keyword argument to specify whether you want the output in celcius or kelvin"
   ]
  },
  {
   "cell_type": "code",
   "execution_count": 65,
   "metadata": {},
   "outputs": [
    {
     "name": "stdout",
     "output_type": "stream",
     "text": [
      "converting 40F to 4.444444444444445C.\n"
     ]
    }
   ],
   "source": [
    "def From_farenheit(temp, unit):\n",
    "    if(unit=='C'):\n",
    "        tmpf=(temp-32)*(5/9)\n",
    "        print('converting '+str(temp)+'F to '+str(tmpf)+'C.')\n",
    "    elif(unit=='K'):\n",
    "        tmpf=(temp-32)*(5/9) +273.15\n",
    "        print('converting '+str(temp)+'F to '+str(tmpf)+ 'K.')\n",
    "    return tmpf\n",
    "\n",
    "tF = From_farenheit(40, 'C')"
   ]
  },
  {
   "cell_type": "markdown",
   "metadata": {},
   "source": [
    "### 5) Write a function that takes two arguments (feet and inches) and returns height in meters\n",
    "\n",
    "Verify it gives sensible answers"
   ]
  },
  {
   "cell_type": "code",
   "execution_count": 50,
   "metadata": {},
   "outputs": [
    {
     "name": "stdout",
     "output_type": "stream",
     "text": [
      "Converting 5 feet 7 inches to 1.7022357723577235 meters.\n"
     ]
    }
   ],
   "source": [
    "def Feet_and_inches(f,i):\n",
    "    meter_h = (f+i/12)/3.28\n",
    "    print('Converting '+str(f)+' feet '+str(i)+' inches to '+str(meter_h)+' meters.')\n",
    "    \n",
    "    return meter_h\n",
    "\n",
    "h_m = Feet_and_inches(5, 7)"
   ]
  },
  {
   "cell_type": "markdown",
   "metadata": {},
   "source": [
    "### 6. Write a function takes one argument (height in meters) and returns two arguments (feet and inches)\n",
    "\n",
    "(Consult the [tutorial on numbers](https://docs.python.org/3/tutorial/introduction.html#numbers) if you are stuck on how to implement this.)"
   ]
  },
  {
   "cell_type": "code",
   "execution_count": 68,
   "metadata": {},
   "outputs": [
    {
     "name": "stdout",
     "output_type": "stream",
     "text": [
      "Converting 1.7 meters to 5 feet 7 inches.\n",
      "{'feet': 5, 'inches': 7}\n"
     ]
    }
   ],
   "source": [
    "def meters_to_feet_inch(meters):\n",
    "    height_feet_decimal = meters*3.28\n",
    "    height_feet = int(height_feet_decimal)\n",
    "    height_inches_decimal = height_feet_decimal - height_feet\n",
    "    height_inches = round(height_inches_decimal*12)\n",
    "    \n",
    "    print('Converting '+str(meters)+' meters to '+str(height_feet)+' feet '+str(height_inches)+' inches.')\n",
    "    \n",
    "    height = {'feet':height_feet, 'inches':height_inches}\n",
    "    return height\n",
    "\n",
    "print(meters_to_feet_inch(1.7))"
   ]
  },
  {
   "cell_type": "markdown",
   "metadata": {
    "tags": []
   },
   "source": [
    "### 7) Verify that the \"round trip\" conversion from and back to meters is consistent \n",
    "\n",
    "Check for 3 different values of height in meters"
   ]
  },
  {
   "cell_type": "code",
   "execution_count": 56,
   "metadata": {},
   "outputs": [
    {
     "name": "stdout",
     "output_type": "stream",
     "text": [
      "Converting 5 feet 7 inches to 1.7022357723577235 meters.\n",
      "1.7022357723577235\n"
     ]
    }
   ],
   "source": [
    "my_feet = 5\n",
    "my_inches = 7\n",
    "h_m = Feet_and_inches(my_feet, my_inches)\n",
    "print(h_m)"
   ]
  }
 ],
 "metadata": {
  "kernelspec": {
   "display_name": "Python 3",
   "language": "python",
   "name": "python3"
  },
  "language_info": {
   "codemirror_mode": {
    "name": "ipython",
    "version": 3
   },
   "file_extension": ".py",
   "mimetype": "text/x-python",
   "name": "python",
   "nbconvert_exporter": "python",
   "pygments_lexer": "ipython3",
   "version": "3.8.8"
  }
 },
 "nbformat": 4,
 "nbformat_minor": 4
}
