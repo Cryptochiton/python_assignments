{
 "cells": [
  {
   "cell_type": "markdown",
   "metadata": {},
   "source": [
    "# Assignment 3: Basic Python\n",
    "\n",
    "\n",
    "```{admonition} Learning Goals\n",
    ":class: tip\n",
    "\n",
    "This assignment will verify that you have the following skills:\n",
    "- Create lists and dictionaries\n",
    "- Iterate through lists, tuples, and dictionaries\n",
    "- Index sequences (e.g. lists and tuples)\n",
    "```"
   ]
  },
  {
   "cell_type": "markdown",
   "metadata": {},
   "source": [
    "## Part I: Lists and Loops\n",
    "\n",
    "In this problem, we will explore the basic data structures and flow controls of Python by _manually creating data structures_.\n",
    "\n",
    "\n",
    "```{warning}\n",
    "Pluto is [not a planet any more](https://www.loc.gov/everyday-mysteries/item/why-is-pluto-no-longer-a-planet/).\n",
    "```"
   ]
  },
  {
   "cell_type": "markdown",
   "metadata": {},
   "source": [
    "### 1) Create a list with the names of every planet in the solar system (in order)"
   ]
  },
  {
   "cell_type": "code",
   "execution_count": 31,
   "metadata": {},
   "outputs": [
    {
     "data": {
      "text/plain": [
       "['eaaaarth',\n",
       " 'mercury',\n",
       " 'venus',\n",
       " 'mars',\n",
       " 'neptune',\n",
       " 'uranus',\n",
       " 'jupiter',\n",
       " 'saturn']"
      ]
     },
     "execution_count": 31,
     "metadata": {},
     "output_type": "execute_result"
    }
   ],
   "source": [
    "Planets = ['earth', 'mercury', 'venus', 'mars', 'neptune', 'uranus', 'jupiter', 'saturn']\n",
    "Planets"
   ]
  },
  {
   "cell_type": "markdown",
   "metadata": {
    "tags": []
   },
   "source": [
    "### 2) Have Python tell you how many planets there are by examining your list"
   ]
  },
  {
   "cell_type": "code",
   "execution_count": 32,
   "metadata": {},
   "outputs": [
    {
     "data": {
      "text/plain": [
       "8"
      ]
     },
     "execution_count": 32,
     "metadata": {},
     "output_type": "execute_result"
    }
   ],
   "source": [
    "len(Planets)"
   ]
  },
  {
   "cell_type": "markdown",
   "metadata": {},
   "source": [
    "### 3) Use slicing to display the first four planets (the rocky planets)"
   ]
  },
  {
   "cell_type": "code",
   "execution_count": 33,
   "metadata": {},
   "outputs": [
    {
     "name": "stdout",
     "output_type": "stream",
     "text": [
      "['eaaaarth', 'mercury', 'venus', 'mars']\n"
     ]
    }
   ],
   "source": [
    "print(Planets[0:4])"
   ]
  },
  {
   "cell_type": "markdown",
   "metadata": {
    "tags": []
   },
   "source": [
    "### 4) Iterate through your planets and print the planet name only if it has an `s` at the end"
   ]
  },
  {
   "cell_type": "code",
   "execution_count": 6,
   "metadata": {},
   "outputs": [
    {
     "name": "stdout",
     "output_type": "stream",
     "text": [
      "venus\n",
      "mars\n",
      "uranus\n"
     ]
    }
   ],
   "source": [
    "for planet in Planets:\n",
    "    if planet [-1] == \"s\":\n",
    "        print(planet)"
   ]
  },
  {
   "cell_type": "markdown",
   "metadata": {
    "tags": []
   },
   "source": [
    "## Part II: Dictionaries\n",
    "\n",
    "### 1) Now create a dictionary that maps each planet name to its mass\n",
    "\n",
    "You can use values from this [NASA fact sheet](https://nssdc.gsfc.nasa.gov/planetary/factsheet/).\n",
    "You can use whatever units you want, but be consistent."
   ]
  },
  {
   "cell_type": "code",
   "execution_count": 22,
   "metadata": {},
   "outputs": [
    {
     "name": "stdout",
     "output_type": "stream",
     "text": [
      "{'earth': 5.969999999999999e+24, 'mercury': 3.3299999999999996e+23, 'venus': 4.87e+24, 'mars': 6.419999999999999e+23, 'neptune': 1.02e+26, 'uranus': 8.68e+25, 'jupiter': 1.898e+27, 'saturn': 5.68e+26}\n"
     ]
    }
   ],
   "source": [
    "mass = {'earth': 5.97*10**24, \n",
    "        'mercury': 3.33*10**23, \n",
    "        'venus':  4.87*10**24, \n",
    "        'mars': 6.42*10**23, \n",
    "        'neptune': 1.02*10**26, \n",
    "        'uranus': 8.68*10**25, \n",
    "        'jupiter': 1.898*10**27, \n",
    "        'saturn': 5.68*10**26}\n",
    "\n",
    "print(mass)"
   ]
  },
  {
   "cell_type": "markdown",
   "metadata": {},
   "source": [
    "### 2) Use your dictionary to look up Earth's mass"
   ]
  },
  {
   "cell_type": "code",
   "execution_count": 23,
   "metadata": {},
   "outputs": [
    {
     "name": "stdout",
     "output_type": "stream",
     "text": [
      "5.969999999999999e+24\n"
     ]
    }
   ],
   "source": [
    "print(mass['earth'])"
   ]
  },
  {
   "cell_type": "markdown",
   "metadata": {
    "tags": []
   },
   "source": [
    "### 3) Loop through the data and create a list of planets whose mast is greater than 100 x 10^24 kg \n",
    "\n",
    "Display your result"
   ]
  },
  {
   "cell_type": "code",
   "execution_count": 28,
   "metadata": {},
   "outputs": [
    {
     "name": "stdout",
     "output_type": "stream",
     "text": [
      "{'neptune': 1.02e+26, 'jupiter': 1.898e+27, 'saturn': 5.68e+26}\n"
     ]
    }
   ],
   "source": [
    "\n",
    "Big_mass = {}\n",
    "for key, value in mass.items():\n",
    "    if value >=100*10**24:\n",
    "        Big_mass[key] = value\n",
    "print(Big_mass)"
   ]
  },
  {
   "cell_type": "markdown",
   "metadata": {},
   "source": [
    "### 4) Now add pluto to your dictionary"
   ]
  },
  {
   "cell_type": "code",
   "execution_count": 9,
   "metadata": {},
   "outputs": [],
   "source": [
    "mass = {'earth': 5.97*10**24, \n",
    "        'mercury': 3.33*10**23, \n",
    "        'venus':  4.87*10**24, \n",
    "        'mars': 6.42*10**23, \n",
    "        'neptune': 1.02*10**26, \n",
    "        'uranus': 8.68*10**25, \n",
    "        'jupiter': 1.898*10**27, \n",
    "        'saturn': 5.68*10**26, \n",
    "        'plut0': 1.3*10**22}\n"
   ]
  }
 ],
 "metadata": {
  "kernelspec": {
   "display_name": "Python 3",
   "language": "python",
   "name": "python3"
  },
  "language_info": {
   "codemirror_mode": {
    "name": "ipython",
    "version": 3
   },
   "file_extension": ".py",
   "mimetype": "text/x-python",
   "name": "python",
   "nbconvert_exporter": "python",
   "pygments_lexer": "ipython3",
   "version": "3.8.8"
  }
 },
 "nbformat": 4,
 "nbformat_minor": 4
}
